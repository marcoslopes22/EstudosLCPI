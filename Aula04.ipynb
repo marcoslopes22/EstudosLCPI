{
  "nbformat": 4,
  "nbformat_minor": 0,
  "metadata": {
    "colab": {
      "name": "Aula04.ipynb",
      "provenance": [],
      "collapsed_sections": [],
      "authorship_tag": "ABX9TyNq975bERwLgELcJQDQ5WdB",
      "include_colab_link": true
    },
    "kernelspec": {
      "name": "python3",
      "display_name": "Python 3"
    },
    "language_info": {
      "name": "python"
    }
  },
  "cells": [
    {
      "cell_type": "markdown",
      "metadata": {
        "id": "view-in-github",
        "colab_type": "text"
      },
      "source": [
        "<a href=\"https://colab.research.google.com/github/marcoslopes22/EstudosLCPI/blob/main/Aula04.ipynb\" target=\"_parent\"><img src=\"https://colab.research.google.com/assets/colab-badge.svg\" alt=\"Open In Colab\"/></a>"
      ]
    },
    {
      "cell_type": "code",
      "execution_count": null,
      "metadata": {
        "id": "MiRjDFhGXlVw"
      },
      "outputs": [],
      "source": [
        "#ETE PORTO DIGITAL\n",
        "#PROFESSOR: CLOVES ROCHA\n",
        "#ALUNO: MARCOS AURÉLIO LOPES DE ARAÚJO\n",
        "#ATIVIDADE - VII / III / XXII\n",
        "\n",
        "nomes = ['Marcos', 'Fátima', 'Monique']\n",
        "for n in nomes:\n",
        "  print(n)"
      ]
    }
  ]
}