{
  "nbformat": 4,
  "nbformat_minor": 0,
  "metadata": {
    "colab": {
      "name": "Aula3subLPC1.ipynb",
      "provenance": [],
      "authorship_tag": "ABX9TyOynS7lFDk7QRQGc5ue8K4D",
      "include_colab_link": true
    },
    "kernelspec": {
      "name": "python3",
      "display_name": "Python 3"
    },
    "language_info": {
      "name": "python"
    }
  },
  "cells": [
    {
      "cell_type": "markdown",
      "metadata": {
        "id": "view-in-github",
        "colab_type": "text"
      },
      "source": [
        "<a href=\"https://colab.research.google.com/github/marcoslopes22/EstudosLCPI/blob/main/Aula3subLPC1.ipynb\" target=\"_parent\"><img src=\"https://colab.research.google.com/assets/colab-badge.svg\" alt=\"Open In Colab\"/></a>"
      ]
    },
    {
      "cell_type": "code",
      "execution_count": 1,
      "metadata": {
        "colab": {
          "base_uri": "https://localhost:8080/"
        },
        "id": "m_q5qkG2AX7J",
        "outputId": "3781c846-c45d-4ed5-892e-2733bdd329da"
      },
      "outputs": [
        {
          "output_type": "stream",
          "name": "stdout",
          "text": [
            "Olá, ETE Porto Digital!\n"
          ]
        }
      ],
      "source": [
        "#ETE PORTO DIGITAL\n",
        "#DISCIPLINA: LPC1\n",
        "#PROFESSOR: CLOVES ROCHA\n",
        "#ESTUDANTE: MARCOS A L DE ARAÚJO\n",
        "\n",
        "print(\"Olá, ETE Porto Digital!\")"
      ]
    }
  ]
}