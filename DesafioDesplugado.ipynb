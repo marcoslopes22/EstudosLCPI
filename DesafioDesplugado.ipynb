{
  "nbformat": 4,
  "nbformat_minor": 0,
  "metadata": {
    "colab": {
      "name": "DesafioDesplugado.ipynb",
      "provenance": [],
      "collapsed_sections": [],
      "authorship_tag": "ABX9TyM+jI5aVRtf4cxnWTwtXknV",
      "include_colab_link": true
    },
    "kernelspec": {
      "name": "python3",
      "display_name": "Python 3"
    },
    "language_info": {
      "name": "python"
    }
  },
  "cells": [
    {
      "cell_type": "markdown",
      "metadata": {
        "id": "view-in-github",
        "colab_type": "text"
      },
      "source": [
        "<a href=\"https://colab.research.google.com/github/marcoslopes22/EstudosLCPI/blob/main/DesafioDesplugado.ipynb\" target=\"_parent\"><img src=\"https://colab.research.google.com/assets/colab-badge.svg\" alt=\"Open In Colab\"/></a>"
      ]
    },
    {
      "cell_type": "code",
      "execution_count": null,
      "metadata": {
        "id": "zObleOEvgWoH"
      },
      "outputs": [],
      "source": [
        "#ETE PORTO DIGITAL\n",
        "#PROFESSOR: CLOVES ROCHA\n",
        "#ALUNO: MARCOS AURELIO LOPES DE ARAUJO\n",
        "#DATA: XXVIII/III/XXII\n",
        "\n",
        "#DESCRIÇÃO: UTILIZANDO A FUNÇÃO \"FOR\", FAÇA UMA LISTA QUE ARMAZENE 5 NOMES E\n",
        "#5 IDADES. IMPRIMA A LISTA DE NOME E DE IDADE. RANQUEE OS MAIS VELHOS DESSA LISTA.\n",
        "\n",
        "lista_nomes = []\n",
        "lista_idades = []\n",
        "\n",
        "for x in range(0, 5):\n",
        "  lista_nomes.append(input(\"Adicione uma pessoa na lista: \"))\n",
        "  print(\"Pessoa\", x+1,\":\", lista_nomes[x])\n",
        "  lista_idades.append(input(\"Digite a idade da pessoa: \"))\n",
        "  print(\"Idade de\", lista_nomes[x],\": \", lista_idades[x], \"anos\")\n",
        "\n",
        "for item in range(0, 5):\n",
        "  print(lista_nomes[item], \"tem: \", lista_idades[item], \"anos\")\n",
        "\n",
        "print(\"Pessoas: \", lista_nomes)\n",
        "print(\"Idades: \", lista_idades)\n",
        "\n",
        "lista_idades.sort(reverse=True)\n",
        "print(\"Lista de idades ranqueada(Decrescente): \", lista_idades)"
      ]
    }
  ]
}