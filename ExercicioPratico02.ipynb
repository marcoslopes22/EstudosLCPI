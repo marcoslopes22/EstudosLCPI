{
  "nbformat": 4,
  "nbformat_minor": 0,
  "metadata": {
    "colab": {
      "name": "ExercicioPratico02.ipynb",
      "provenance": [],
      "authorship_tag": "ABX9TyMhtqfLd9SYytmJH14Kj0u7",
      "include_colab_link": true
    },
    "kernelspec": {
      "name": "python3",
      "display_name": "Python 3"
    },
    "language_info": {
      "name": "python"
    }
  },
  "cells": [
    {
      "cell_type": "markdown",
      "metadata": {
        "id": "view-in-github",
        "colab_type": "text"
      },
      "source": [
        "<a href=\"https://colab.research.google.com/github/marcoslopes22/EstudosLCPI/blob/main/ExercicioPratico02.ipynb\" target=\"_parent\"><img src=\"https://colab.research.google.com/assets/colab-badge.svg\" alt=\"Open In Colab\"/></a>"
      ]
    },
    {
      "cell_type": "code",
      "execution_count": null,
      "metadata": {
        "id": "p_NG_8wKFD2N"
      },
      "outputs": [],
      "source": [
        "#ETE - PORTO DIGITAL\n",
        "#DISCIPLINA: LPC1\n",
        "#PROFESSOR: CLOVES ROCHA\n",
        "#ALUNO: MARCOS AURELIO\n",
        "\n",
        "#OBJETIVO: Identificar se o valor de uma variável é letra ou número.\n",
        "\n",
        "#PRIMEIRO MÉTODO\n",
        "print(\"Vamos aprender como saber se a sua variável é uma letra ou um número!\\n\")\n",
        "variavel = input(\"Primeiro, digite uma variável: \")\n",
        "if not variavel.isdigit():\n",
        "    print(\"A sua variável é uma letra. Acertei?\")\n",
        "else:\n",
        "  print(\"A sua variável é um número. Acertei?\")\n",
        "\n",
        "#SEGUNDO MÉTODO\n",
        "print(\"\\nAgora, vamos fazer de novo com o segundo método!\\n\")\n",
        "def verificar(variavel):\n",
        "  if not variavel.isdigit():\n",
        "    print(\"A sua variável é uma letra. Acertei?\")\n",
        "  else:\n",
        "    print(\"A sua variável é um número. Acertei?\")\n",
        "auxiliar = verificar(input(\"Digite uma variavel: \"))"
      ]
    }
  ]
}