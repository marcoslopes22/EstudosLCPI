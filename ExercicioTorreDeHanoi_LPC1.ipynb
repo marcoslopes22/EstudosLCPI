{
  "cells": [
    {
      "cell_type": "markdown",
      "metadata": {
        "id": "view-in-github",
        "colab_type": "text"
      },
      "source": [
        "<a href=\"https://colab.research.google.com/github/marcoslopes22/EstudosLCPI/blob/main/ExercicioTorreDeHanoi_LPC1.ipynb\" target=\"_parent\"><img src=\"https://colab.research.google.com/assets/colab-badge.svg\" alt=\"Open In Colab\"/></a>"
      ]
    },
    {
      "cell_type": "code",
      "source": [
        "#EXERCÍCIO O2 - TORRE DE HANOI - PYTHON\n",
        "#ALUNO: MARCOS AURÉLIO LOPES DE ARAÚJO\n",
        "#ETEPD - DS - 1MOD - LPC1\n",
        "\n",
        "#FUNCIONAMENTO:   O objetivo é imprimir os movimentos da transferência dos discos da torre de origem \"torre A\"\n",
        "#               para a torre de destino \"torre C\" obedecendo as regras do jogo na vida real.\n",
        "#                 Ao modificar a ordem dos parâmentros dentro do \"if, else\", a ordem dos valores atribuidos à\n",
        "#               função na última linha não se alteram, possibilitando a simulação dos movimentos.\n",
        "\n",
        "def mover_discos(quantidadeDiscos, origem, destino, auxiliar):\n",
        "\n",
        "  if quantidadeDiscos == 1:\n",
        "    print(\"Mover o disco\", quantidadeDiscos, \"da\", origem, \"para a\", destino)\n",
        "#Atribuir e imprimir uma sequência que será executada quando a quantidade de discos for igual a 1.\n",
        "\n",
        "  else:\n",
        "    mover_discos(quantidadeDiscos - 1, origem, auxiliar, destino)\n",
        "    print(\"Mover o disco\", quantidadeDiscos, \"da\", origem, \"para a\", destino)\n",
        "    mover_discos(quantidadeDiscos - 1, auxiliar, destino, origem)\n",
        "#Atribuir as sequências através dos parâmetros da função caso o número de discos seja diferente de 1.\n",
        "\n",
        "\n",
        "mover_discos(3, \"torre A\", \"torre C\", \"torre B\")\n",
        "#Executar a função, atribuir a quantidade de discos e o valor dos parâmetros origem, destino e auxiliar.\n",
        "\n",
        "\n",
        "\n",
        "#BASE: https://www.youtube.com/watch?v=X-I53cLjidg"
      ],
      "metadata": {
        "id": "psRDteji01e7",
        "outputId": "6658cc36-22fb-4d1c-a284-952cf35a0ecd",
        "colab": {
          "base_uri": "https://localhost:8080/"
        }
      },
      "execution_count": 1,
      "outputs": [
        {
          "output_type": "stream",
          "name": "stdout",
          "text": [
            "Mover o disco 1 da torre A para a torre C\n",
            "Mover o disco 2 da torre A para a torre B\n",
            "Mover o disco 1 da torre C para a torre B\n",
            "Mover o disco 3 da torre A para a torre C\n",
            "Mover o disco 1 da torre B para a torre A\n",
            "Mover o disco 2 da torre B para a torre C\n",
            "Mover o disco 1 da torre A para a torre C\n"
          ]
        }
      ]
    }
  ],
  "metadata": {
    "colab": {
      "collapsed_sections": [],
      "name": "ExercicioTorreDeHanoi - LPC1",
      "provenance": [],
      "include_colab_link": true
    },
    "kernelspec": {
      "display_name": "Python 3",
      "name": "python3"
    }
  },
  "nbformat": 4,
  "nbformat_minor": 0
}