{
  "nbformat": 4,
  "nbformat_minor": 0,
  "metadata": {
    "colab": {
      "name": "ExercícioPratico01.ipynb",
      "provenance": [],
      "collapsed_sections": [],
      "authorship_tag": "ABX9TyN2hhV1NQRZwWSiwmehWFG+",
      "include_colab_link": true
    },
    "kernelspec": {
      "name": "python3",
      "display_name": "Python 3"
    },
    "language_info": {
      "name": "python"
    }
  },
  "cells": [
    {
      "cell_type": "markdown",
      "metadata": {
        "id": "view-in-github",
        "colab_type": "text"
      },
      "source": [
        "<a href=\"https://colab.research.google.com/github/marcoslopes22/EstudosLCPI/blob/main/Exerc%C3%ADcioPratico01.ipynb\" target=\"_parent\"><img src=\"https://colab.research.google.com/assets/colab-badge.svg\" alt=\"Open In Colab\"/></a>"
      ]
    },
    {
      "cell_type": "code",
      "execution_count": null,
      "metadata": {
        "id": "roId6Ces2LU_"
      },
      "outputs": [],
      "source": [
        "#ETE - PORTO DIGITAL\n",
        "#DISCIPLINA: LPC1\n",
        "#PROFESSOR: CLOVES ROCHA\n",
        "#ALUNO: MARCOS AURÉLIO\n",
        "\n",
        "#OBJETIVO: Executar uma multiplicação com os valores de variáveis.\n",
        "\n",
        "#PRIMEIRO MÉTODO\n",
        "print(\"Vamos resolver uma multiplicação com o primeiro método!\\n\")\n",
        "coeficienteUm = int(input(\"Digite o primeiro coeficiente: \"))\n",
        "coeficienteDois = int(input(\"Digite o segundo coeficiente: \"))\n",
        "produto = coeficienteUm * coeficienteDois\n",
        "print(\"\\nO produto da multiplicação entre\", coeficienteUm, \"e\", coeficienteDois, \"é:\", produto)\n",
        "\n",
        "#SEGUNDO MÉTODO\n",
        "print(\"Agora, vamos resolver outra multiplicação com o segundo método!\\n\")\n",
        "coeficienteUm = int(input(\"Digite o primeiro coeficiente: \"))\n",
        "coeficienteDois = int(input(\"Digite o segundo coeficiente: \"))\n",
        "def multiplicar():\n",
        "  return coeficienteUm * coeficienteDois\n",
        "produto = multiplicar()\n",
        "print(\"\\nO produto da multiplicação entre\", coeficienteUm, \"e\", coeficienteDois, \"é:\", produto)"
      ]
    }
  ]
}